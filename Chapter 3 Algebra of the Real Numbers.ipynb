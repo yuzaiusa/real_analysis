{
 "cells": [
  {
   "cell_type": "markdown",
   "metadata": {},
   "source": [
    "# The Rules of Arithmetic\n",
    "## Observations:\n",
    "+ (0) If we add or multiply two real numbers, we get a real number (**closed to addition and multiplication**).\n",
    "+ (1) Addition is **associative**: If $x$, $y$, and $z$ are any three real numbers, then $(x + y) + z = x + (y + z)$. \n",
    "+ (2) Addition is **commutative**: If $x$ and $y$ are any two real numbers, then $x + y = y + x$. \n",
    "+ (3) There is a special real number, 0 (the **additive identity**), having the property that $0 + x = x$ for any real number $x$. \n",
    "+ (4) For each real number, $x$, there is a real number, denoted $−x$, with $x + (−x) = 0$ ($−x$ is the **additive inverse** of $x$). \n",
    "+ (5) Multiplication is **associative**. \n",
    "+ (6) Multiplication is **commutative**. \n",
    "+ (7) There is a special real number, 1 (the **multiplicative identity**), having the property that $1 \\times x = x$ for every real number $x$. \n",
    "+ (8) For each real number **except 0**, there is another real number, denoted $1/x$ or $x^{−1}$, with $x \\times x^{−1} = 1$ ($x^{−1}$ is the **multiplicative inverse** of $x$). \n",
    "+ (9) **Multiplication distributes over addition**: If $x$, $y$, and $z$ are any numbers, then $x \\times (y + z) = (x \\times y) + (x \\times z)$.\n",
    "\n",
    "# Fields\n",
    "## DEFINITION 3.1 (Field): \n",
    "A set F, with operations + and ×, obeying rules (0) through (9) above (with \"real number\" replaced by \"element of F\" everywhere it occurs) is called a **field**. \n",
    "\n",
    "Both $\\mathbb{R}$ and $\\mathbb{Q}$ are fields. $\\mathbb{Z}$ is not. The integer numbers only form a **ring** (a **commutative ring with unity** to be exactly) but not a field because the absence of **multiplicative inverse**.\n",
    "\n",
    "$\\mathbb{Z}_2$, however, is a field (a **finite field** to be exactly). \n",
    "\n",
    "In general, $\\mathbb{Z}_p$ where $p$ is a **prime number** can form a field. There are **non-prime finite field** as well but they are constructed in a different way.\n",
    "\n",
    "## EXAMPLE 3.2.1 (The Field of Formal Rational Functions):\n",
    "A **rational function** is any function which can be defined by a **rational fraction**, i.e. an **algebraic fraction** such that both the numerator and the denominator are **polynomials**. The coefficients of the polynomials need **not** be rational numbers, they may be taken in any field $K$. In this case, one speaks of a rational function and a rational fraction over $K$. The values of the variables may be taken in any field $L$ containing $K$. Then the domain of the function is the set of the values of the variables for which the denominator is not zero and the codomain is $L$.\n",
    "\n",
    "This is a very important example because it is an **ordered field** that is **not Archimedean**. \n",
    "\n",
    "## EXAMPLE 3.2.2 (The Field of Complex Numbers):\n",
    "All **complex numbers** form a field. \n",
    "\n",
    "This is an example of a field that **cannot be well ordered** (**linearly ordered**).\n",
    "\n",
    "## Exercise 3.2.7 (Uniqueness of 0 and 1):\n",
    "Each element of a field has **only one additive inverse** and that each nonzero element has **only one multiplicative inverse**.\n",
    "\n",
    "## Exercise 3.2.9 (Trivial Field):\n",
    "$0\\ne 1$ in **any field with more than one element**. (A field with only one element, aka a **trivial field**, is not very interesting.)"
   ]
  }
 ],
 "metadata": {
  "kernelspec": {
   "display_name": "Python 2",
   "language": "python",
   "name": "python2"
  },
  "language_info": {
   "codemirror_mode": {
    "name": "ipython",
    "version": 2
   },
   "file_extension": ".py",
   "mimetype": "text/x-python",
   "name": "python",
   "nbconvert_exporter": "python",
   "pygments_lexer": "ipython2",
   "version": "2.7.13"
  }
 },
 "nbformat": 4,
 "nbformat_minor": 2
}
