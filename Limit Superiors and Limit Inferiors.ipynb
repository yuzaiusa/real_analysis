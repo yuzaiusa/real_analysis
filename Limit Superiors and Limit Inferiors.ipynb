{
 "cells": [
  {
   "cell_type": "markdown",
   "metadata": {},
   "source": [
    "There are three alternative definitions of **limit superiors** ($\\limsup x_n$) and **limit inferiors** ($\\liminf x_n$).\n",
    "\n",
    "First, let us list a few definitions and theorems.\n",
    "\n",
    "<u>DEFINITION 10.7 (**Sequential cluster points**)</u>:<br>\n",
    "A point c is a sequential cluster point of $(x_n)$ if $\\{n: x_n\\in(c-\\epsilon,c+\\epsilon)\\}$ is infinite for each $\\epsilon>0$.\n",
    "\n",
    "<u>THEOREM 10.8 (**Sequential cluster points**)</u>:<br>\n",
    "For a real sequence $(x_n)$, a point $c$ is a sequential cluster point if and only if $(x_n)$ has a subsequence converging to $c$, i.e. there exists a strictly increasing $(n_k)$ such that $\\lim_{k\\rightarrow\\infty} x_{n_k} = c$.\n",
    "\n",
    "Then, the three alternative definitions are as the following:\n",
    "\n",
    "1. (By sequential cluster points): If $E\\subseteq\\mathbb{R}$ is the set of all subsequential limits of $(x_{n})$, then $$\\limsup_{n\\to \\infty } x_{n}=\\sup E$$ and $$\\liminf_{n\\to \\infty } x_{n}=\\inf E$$.\n",
    "2. (By the limits of suprema and infima): $$\\limsup _{n\\to \\infty }x_{n}:=\\lim _{n\\to \\infty }{\\Big (}\\sup _{m\\geq n}x_{m}{\\Big )}$$ and $$\\liminf _{n\\to \\infty }x_{n}:=\\lim _{n\\to \\infty }{\\Big (}\\inf _{m\\geq n}x_{m}{\\Big )}$$\n",
    "3. (By the supremum of infima): $$\\limsup _{n\\to \\infty }x_{n}:=\\inf _{n\\geq 0}\\,\\sup _{m\\geq n}x_{m}=\\inf\\{\\,\\sup\\{\\,x_{m}:m\\geq n\\,\\}:n\\geq 0\\,\\}$$ and $$\\liminf _{n\\to \\infty }x_{n}:=\\sup _{n\\geq 0}\\,\\inf _{m\\geq n}x_{m}=\\sup\\{\\,\\inf\\{\\,x_{m}:m\\geq n\\,\\}:n\\geq 0\\,\\}$$\n"
   ]
  }
 ],
 "metadata": {
  "kernelspec": {
   "display_name": "Python [Root]",
   "language": "python",
   "name": "Python [Root]"
  },
  "language_info": {
   "codemirror_mode": {
    "name": "ipython",
    "version": 2
   },
   "file_extension": ".py",
   "mimetype": "text/x-python",
   "name": "python",
   "nbconvert_exporter": "python",
   "pygments_lexer": "ipython2",
   "version": "2.7.12"
  }
 },
 "nbformat": 4,
 "nbformat_minor": 0
}
