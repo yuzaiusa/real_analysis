{
 "cells": [
  {
   "cell_type": "markdown",
   "metadata": {},
   "source": [
    "Limit superiors and limit inferiors of a sequence of real numbers\n",
    "=================================================================\n",
    "\n",
    "There are three alternative definitions of **limit superiors** ($\\limsup x_n$) and **limit inferiors** ($\\liminf x_n$).\n",
    "\n",
    "First, let us list a few definitions and theorems.\n",
    "\n",
    "<u>DEFINITION 10.7 (**Sequential cluster points**)</u>:<br>\n",
    "A point c is a sequential cluster point of $(x_n)$ if $\\{n: x_n\\in(c-\\epsilon,c+\\epsilon)\\}$ is infinite for each $\\epsilon>0$.\n",
    "\n",
    "<u>THEOREM 10.8 (**Sequential cluster points**)</u>:<br>\n",
    "For a real sequence $(x_n)$, a point $c$ is a sequential cluster point if and only if $(x_n)$ has a subsequence converging to $c$, i.e. there exists a strictly increasing $(n_k)$ such that $\\lim_{k\\rightarrow\\infty} x_{n_k} = c$.\n",
    "\n",
    "Then, the three alternative definitions are as the following:\n",
    "\n",
    "1. (By sequential cluster points): If $E\\subseteq\\mathbb{R}$ is the set of all sequential cluster points of $(x_{n})$, then $$\\limsup_{n\\to \\infty } x_{n}=\\sup E$$ and $$\\liminf_{n\\to \\infty } x_{n}=\\inf E$$.\n",
    "2. (By the limits of suprema and infima): $$\\limsup _{n\\to \\infty }x_{n}:=\\lim _{n\\to \\infty }{\\Big (}\\sup _{m\\geq n}x_{m}{\\Big )}$$ and $$\\liminf _{n\\to \\infty }x_{n}:=\\lim _{n\\to \\infty }{\\Big (}\\inf _{m\\geq n}x_{m}{\\Big )}$$\n",
    "3. (By the supremum of infima): $$\\limsup _{n\\to \\infty }x_{n}:=\\inf _{n\\geq 0}\\,\\sup _{m\\geq n}x_{m}=\\inf\\{\\,\\sup\\{\\,x_{m}:m\\geq n\\,\\}:n\\geq 0\\,\\}$$ and $$\\liminf _{n\\to \\infty }x_{n}:=\\sup _{n\\geq 0}\\,\\inf _{m\\geq n}x_{m}=\\sup\\{\\,\\inf\\{\\,x_{m}:m\\geq n\\,\\}:n\\geq 0\\,\\}$$\n",
    "\n",
    "Before the proof of equivalence, let us first think about the intuition of the three definitions. The limit superiors and limit inferiors concern about the sequence's behavior at **infinity**. If the sequence **does not converge** but is **bounded**, the \"bound of the oscillation\" of the sequence will eventually \"settle down\". This settled bound is what limit superiors and limit inferiors concern about. It is the bound of the range of the sequence at infinity. A sequence converges if and only these two bounds both exist and are the same. Now, let us see how these three definitions describe this concept, respectively.\n",
    "\n",
    "1. A sequential cluster point is a one of the \"points\" at infinity and the supremum and infimum of those points are what we need.\n",
    "2. What we want is the supremum and infimum at infinity. But this cannot defined directly. So, we define the supremum and infimum of all subsequences that start from $n$, i.e. $(x_m)_n :=\\{x_m, m= n...\\infty\\}$. Then push the starting point $n$ to infinity.\n",
    "3. Similar 2 to define $(x_m)_n$, and observe the supremum of $(x_m)_n$ is decreasing as to $n$. Then the limit becomes the infimum of the suprema."
   ]
  },
  {
   "cell_type": "markdown",
   "metadata": {},
   "source": [
    "Now, we need to prove the **equivalence** of the three definitions. Without loss of generality, we can focus on limit superior only.\n",
    "\n",
    "The **equivalence between 2 and 3** are straightforward by showing that $\\sup _{m\\geq n}x_{m}$ is decreasing with $n$. Then the following two theorems complete the proof.\n",
    "\n",
    "<u>THEOREM 10.3</u>:<br>\n",
    "A bounded, monotone sequence converges.\n",
    "\n",
    "<u>COROLLARY 10.4</u>:<br>\n",
    "If $(x_n)$ is increasing and bounded, then $\\lim x_n = \\sup \\{ x_n\\}$. If $(x_n)$ is decreasing and bounded, then $\\lim x_n = \\inf\\{ x_n\\}$."
   ]
  },
  {
   "cell_type": "markdown",
   "metadata": {},
   "source": [
    "Now, we only need to prove the **equivalence between 1 and 2**, i.e. $\\sup E = \\lim _{n\\to \\infty }{\\Big (}\\sup _{m\\geq n}x_{m}{\\Big )}$.\n",
    "\n",
    "+ We want to first show that $\\lim _{n\\to \\infty }{\\Big (}\\sup _{m\\geq n}x_{m}{\\Big )}$ is a **sequential cluster point**. One could be attempted to say that let $a_n = \\sup _{m\\geq n}x_{m}$ and since $(a_n)$ is decreasing and bounded, it must has a limit (<u>COROLLARY 10.4</u>), say $a = \\lim a_n$. This is true but it won't work because, first $a_n$ may not be an element in $(x_n)$ and it may not be in the right order. $(a_n)$ has a limit does not mean that the limit is a sequential cluster point. We need to construct a subsequence $x_{n_k}$ of $(x_n)$ that converge to the same limit of $(a_n)$. We can do this by the **Squeeze Theorem**.<br><br>\n",
    "<u>THEOREM 9.9.c (**Squeezing Theorem**):</u><br>\n",
    "If $(x_n)$ and $(y_n)$ both converge to L and $x_n\\leq z_n \\leq y_n, \\forall n$, then $(z_n)$ converges and $\\lim z_n = L$.<br><br>\n",
    "<u>THEOREM 9.11.a (**Algebra of the limits of sequences**):</u><br>\n",
    "Suppose $\\lim x_n = L$ and $\\lim y_n = M$. Then $\\lim (x_n+y_n) = L+M$.\n",
    "<br><br>\n",
    "<u>THEOREM 9.18 (**Convergence of subsequences**):</u><br>\n",
    "If the sequence $(x_n)$ converges, so does every subsequence of it and they all converge to the same limit. <br><br>\n",
    "The result from <u>THEOREM 9.18</u> shows that if $a_n$ converges, any subsequence of $(a_n)$ converges to the same limit. So, we build a subsequence $x_{n_k}$ of $(x_n)$ and a subsequence $(a_{n_k})$ of $(a_n)$ by the following step: <br>\n",
    "  1. For $k=1$, let $a_{n_0} = a_n$, and $x_{n_1}$ be the smallest indexed element in the set that $\\{x_i: a_{n_0}-1/n < x_i \\leq a_{n_0}, \\forall i \\geq n\\}$. Take this index to be $n_1$.\n",
    "  2. For $k=2$, $a_{n_1}$ would be the supremum of the subsequence starting from $n_1$ and we can find the next element in $x_{n_k}$ by finding the smallest indexed element in the set that $\\{x_i: a_{n_1}-1/(n+1) < x_i \\leq a_{n_1}, \\forall i \\geq n\\}$. Take this index to be $n_2$.\n",
    "  3. Continue this process indefinitely.\n",
    "  \n",
    "  It is guaranteed by <u>THEOREM 9.18</u> that $\\lim a_n = \\lim a_{n_k} = a$. And the sequence $x_{n_k}$ is bounded by $$a_{n_{k-1}}-\\frac{1}{k} < x_{n_k} \\leq a_{n_{k-1}}.$$ The **Squeeze Theorem** will guarantee that $x_{n_k}$ converges and $$\\lim x_{n_k} = \\lim a_{n_k} = \\lim a_n = a.$$ This means that $\\lim _{n\\to \\infty }{\\Big (}\\sup _{m\\geq n}x_{m}{\\Big )}$ is a **sequential cluster point**.\n",
    "+ We then need to prove that there is no other sequential cluster point greater than this limit. Suppose there is another sequential cluster point $c$ such that $c > \\lim a_n = a$. So, there is a subsequence $x_{k_m}$ of $(x_n)$ that converges to $c$ and $c>a$. So, define $\\epsilon = \\frac{c-a}{2}$ and there exists an $M$ such that $$a+\\epsilon=c-\\epsilon<x_{k_m}<c+\\epsilon, \\forall m\\geq M.$$ This means $$x_{k_m} > a+\\epsilon, \\text{ when }m\\geq M.$$ Which in turn means $$a_n > a+\\epsilon, \\text{ when }n>k_M.$$ That is $a_n$ will never get closer to $a$ than $\\epsilon$. This contradicts $\\lim a_n = a$. So, $\\lim a_n$ must be the greatest of all sequential cluster points. \n",
    "\n",
    "Thus, $\\lim a_n$ is the supremum of all sequential cluster points. <br>\n",
    "Q.E.D"
   ]
  },
  {
   "cell_type": "markdown",
   "metadata": {},
   "source": [
    "Limit superiors and limit inferiors of a sequence of sets\n",
    "=========================================================\n",
    "\n",
    "We first encountered the concept of limit superiors and limit inferiors in <u>Exercise 1.15.9</u> when we discussed a **sequence of sets**. The intuition at that time was not very clear. But it will be crystal clear after reviewing the limit superiors and limit inferiors of real number sequence.\n",
    "\n",
    "First, the sequence of sets is a collection of countable infinite number of sets with a natural number index. The comparison between two sets is done by the *inclusion* relationship, which gives the power set of $X$, $\\mathcal{P}(X)$, a **partial order**. **Union** serves the same function as of **supremum** and **intersection** serves the same function as of **infimum**. The question we concern here is what the supremum and infimum at the limit of infinity are.\n",
    "\n",
    "![From Wikipedia: An illustration of limit superior and limit inferior. The sequence xn is shown in blue. The two red curves approach the limit superior and limit inferior of xn, shown as dashed black lines. In this case, the sequence accumulates around the two limits. The superior limit is the larger of the two, and the inferior limit is the smaller of the two. The inferior and superior limits agree if and only if the sequence is convergent (i.e., when there is a single limit).](Lim_sup_example_5.png)\n",
    "\n",
    "Above picture is borrowed from [Wikipedia](https://en.wikipedia.org/wiki/Limit_superior_and_limit_inferior). It illustrates the intuition of limit superiors and limit inferiors for real number sequences. To draw an analogue for the sequences of sets, we can define a sequence of sets like the following. For a given decay half-life $\\tau$ and a period $T$, we define the width $W_n$ as:\n",
    "$$ W_n = L(1+e^{\\frac{1-n}{\\tau}})(\\frac{3+\\cos(2\\pi\\frac{n-1}{T})}{4}).$$\n",
    "Intuitively, the bound of the width decays from $2L$ to $L$ and the actual width oscillates between a half and the full bound. Then the sequence of set can be defined as a sequence of real intervals like the following.\n",
    "$$ X_n = (-\\frac{W_n}{2},\\frac{W_n}{2}) $$\n",
    "The **limit superior** is then the set of points that are covered by **at least one set** $X_k, k\\geq n$ and $n\\rightarrow\\infty$. The **limit inferior** is then the set of points that are covered by **all sets** $X_k, k\\geq n$ and $n\\rightarrow\\infty$. \n",
    "$$ \\limsup X_n = [-\\frac{L}{2},\\frac{L}{2}]$$\n",
    "and\n",
    "$$ \\liminf X_n = [-\\frac{L}{4},\\frac{L}{4}]$$\n",
    "\n",
    "The formal definition is as the following.\n",
    "\n",
    "<u>Exercise 1.15.9 (**Limit superiors and limit inferiors of a sequence of sets**)</u>:<br>\n",
    "+ Let In be the meet of the nth tail of the sequence. That is,\n",
    "$$I_{n}=\\inf\\{X_{m}:m\\in \\{n,n+1,n+2,\\ldots \\}\\}=\\bigcap _{m=n}^{\\infty }X_{m}=X_{n}\\cap X_{n+1}\\cap X_{n+2}\\cap \\cdots .$$\n",
    "The sequence $(I_n)$ is non-decreasing ($I_{n} \\subseteq I_{n+1}$) because each $I_{n+1}$ is the intersection of fewer sets than $I_n$. The least upper bound on this sequence of meets of tails is\n",
    "$$\\liminf _{n\\to \\infty }X_{n}=\\sup\\{\\inf\\{X_{m}:m\\in \\{n,n+1,\\ldots \\}\\}:n\\in \\{1,2,\\dots \\}\\}={\\bigcup _{n=1}^{\\infty }}\\left({\\bigcap _{m=n}^{\\infty }}X_{m}\\right).$$\n",
    "So the limit infimum contains all subsets which are lower bounds for all except finitely many sets of the sequence.\n",
    "+ Similarly, let Jn be the join of the nth tail of the sequence. That is,\n",
    "$$J_{n}=\\sup\\{X_{m}:m\\in \\{n,n+1,n+2,\\ldots \\}\\}=\\bigcup _{m=n}^{\\infty }X_{m}=X_{n}\\cup X_{n+1}\\cup X_{n+2}\\cup \\cdots .$$\n",
    "The sequence $(J_n)$ is non-increasing ($J_{n+1} \\subseteq J_n$) because each $J_{n+1}$ is the union of fewer sets than $J_n$. The greatest lower bound on this sequence of joins of tails is\n",
    "$$\\limsup _{n\\to \\infty }X_{n}=\\inf\\{\\sup\\{X_{m}:m\\in \\{n,n+1,\\ldots \\}\\}:n\\in \\{1,2,\\dots \\}\\}={\\bigcap _{n=1}^{\\infty }}\\left({\\bigcup _{m=n}^{\\infty }}X_{m}\\right).$$\n",
    "So the limit supremum is contained in all subsets which are upper bounds for all except finitely many sets of the sequence.\n",
    "\n",
    "Above definition draws a strong parallel with the **third definition** of the limit superior and limit inferior of real sequences. And the \"*physical meaning*\" is quite similar too. Let us rephrase it and use it as the ending of this note.\n",
    "+ $\\limsup X_n$ consists of elements of $X$ which belong to $X_n$ for infinitely many $n$ (i.e. countably infinite). That is, $x \\in \\limsup X_n$ if and only if there exists a subsequence $(X_{n_k})$ of $(X_n)$ such that $x \\in X_{n_k}$ for all k.\n",
    "+ $\\liminf X_n$ consists of elements of $X$ which belong to $X_n$ for all except finitely many $n$ (i.e. for cofinitely many $n$). That is, $x \\in \\liminf X_n$ if and only if there exists some $m>0$ such that $x \\in X_n$ for all $n>m$."
   ]
  }
 ],
 "metadata": {
  "kernelspec": {
   "display_name": "Python [Root]",
   "language": "python",
   "name": "Python [Root]"
  },
  "language_info": {
   "codemirror_mode": {
    "name": "ipython",
    "version": 2
   },
   "file_extension": ".py",
   "mimetype": "text/x-python",
   "name": "python",
   "nbconvert_exporter": "python",
   "pygments_lexer": "ipython2",
   "version": "2.7.12"
  }
 },
 "nbformat": 4,
 "nbformat_minor": 0
}
