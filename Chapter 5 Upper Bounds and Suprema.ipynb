{
 "cells": [
  {
   "cell_type": "markdown",
   "metadata": {},
   "source": [
    "## THEOREM R:\n",
    "If $F$ is an **ordered field** having the **Least Upper Bound property**, then $F$ has the **Archimedean property** and the following results also hold in $F$. (The **Least Upper Bound property** is discussed in **Chapter 5**; the **Archimedean property** is discussed in **Chapter 6**.) \n",
    "\n",
    "+ (a) Every **nest** of **closed, bounded intervals** in $F$ has a **nonempty intersection**. (This is called the **Nested Intervals property** — **Chapter 6**.) \n",
    "+ (b) Every **bounded, infinite subset** of $F$ has a **cluster point**. (This is called the **Bolzano-Weierstrass theorem** — **Chapter 7**.) \n",
    "+ (c) A **sequence** in $F$ **converges** to an element of F if and only if it is a **Cauchy sequence**. (This is called the **Cauchy criterion** — **Chapter 10**.) \n",
    "+ (d) A subset of $F$ is **compact** if and only if it is **closed and bounded**. (This is called the **Heine-Borel theorem** — **Chapter 11**.)\n",
    "+(e) $F$ is **connected**. (**Chapter 12**.)\n",
    "\n",
    "The **Least Upper Bound property** and parts (a) through (e) of **Theorem R** are not just loosely related statements about the real numbers; they are **equivalent**, that is, they describe the same property of the real numbers. This property is called **completeness** (or **Dedekind completeness**).\n",
    "\n",
    "We may define the **real numbers** to be a **complete, Archimedean ordered field**. The **rational numbers** also have the **Archimedean property**; it is the **completeness** that makes the real numbers special.\n",
    "\n",
    "## THE BIG THEOREM:\n",
    "If $F$ is an **ordered field**, the following are **equivalent**:\n",
    "\n",
    "+ (a) $F$ has the **Least Upper Bound property**. \n",
    "+ (b) $F$ has the **Archimedean property**, and the **Nested Intervals property**. \n",
    "+ (c) $F$ has the **Archimedean property**, and the **Bolzano-Weierstrass theorem** holds in $F$. \n",
    "+ (d) The **Heine-Borel theorem** holds in $F$. \n",
    "+ (e) $F$ has the **Archimedean property**, and the **Cauchy criterion** holds in $F$. \n",
    "+ (f) $F$ is **connected**."
   ]
  },
  {
   "cell_type": "markdown",
   "metadata": {},
   "source": [
    "## THE BIG PICTURE\n",
    "![The BIG PICTURE](big_theorem.png)"
   ]
  },
  {
   "cell_type": "markdown",
   "metadata": {},
   "source": []
  }
 ],
 "metadata": {
  "kernelspec": {
   "display_name": "Python 2",
   "language": "python",
   "name": "python2"
  },
  "language_info": {
   "codemirror_mode": {
    "name": "ipython",
    "version": 2
   },
   "file_extension": ".py",
   "mimetype": "text/x-python",
   "name": "python",
   "nbconvert_exporter": "python",
   "pygments_lexer": "ipython2",
   "version": "2.7.13"
  }
 },
 "nbformat": 4,
 "nbformat_minor": 2
}
