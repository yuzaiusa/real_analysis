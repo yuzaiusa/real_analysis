{
 "cells": [
  {
   "cell_type": "markdown",
   "metadata": {},
   "source": [
    "![A local closed loop in the Big Theorem](chapter 7.png)"
   ]
  },
  {
   "cell_type": "markdown",
   "metadata": {},
   "source": [
    "# Points and Sets\n",
    "\n",
    "# One Point of View\n",
    "\n",
    "# Another Point of View\n",
    "\n",
    "# Cluster Points\n",
    "\n",
    "# Derived Sets\n",
    "\n",
    "# The Bolzano-Weierstrass Theorem\n",
    "\n",
    "# Closing the Loop\n"
   ]
  }
 ],
 "metadata": {
  "kernelspec": {
   "display_name": "Python 2",
   "language": "python",
   "name": "python2"
  },
  "language_info": {
   "codemirror_mode": {
    "name": "ipython",
    "version": 2
   },
   "file_extension": ".py",
   "mimetype": "text/x-python",
   "name": "python",
   "nbconvert_exporter": "python",
   "pygments_lexer": "ipython2",
   "version": "2.7.13"
  }
 },
 "nbformat": 4,
 "nbformat_minor": 2
}
